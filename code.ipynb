<<<<<<< Updated upstream
{"cells":[{"cell_type":"code","execution_count":null,"metadata":{},"outputs":[],"source":[]}],"metadata":{"language_info":{"name":"python"},"orig_nbformat":4,"deepnote_notebook_id":"788a2590-6be2-48ab-b598-d979544a3c7c"},"nbformat":4,"nbformat_minor":2}
=======
{
 "cells": [
  {
   "cell_type": "code",
   "execution_count": null,
   "metadata": {},
   "outputs": [],
   "source": []
  }
 ],
 "metadata": {
  "language_info": {
   "name": "python"
  },
  "orig_nbformat": 4
 },
 "nbformat": 4,
 "nbformat_minor": 2
}
>>>>>>> Stashed changes
